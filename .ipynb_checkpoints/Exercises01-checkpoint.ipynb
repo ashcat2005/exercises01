{
 "cells": [
  {
   "cell_type": "markdown",
   "metadata": {},
   "source": [
    "# Computational Astrophysics\n",
    "## Exercises 01"
   ]
  },
  {
   "cell_type": "markdown",
   "metadata": {},
   "source": [
    "**Name:** \n",
    "\n",
    "---"
   ]
  },
  {
   "cell_type": "markdown",
   "metadata": {},
   "source": [
    "## 1. Radius of a Star\n",
    "**`Carroll and Ostlie (2017). Section 3.4`**\n",
    "\n",
    "Define a function that calculates the radius of a star from its luminosity $\\frac{L_*}{L_{\\odot}}$ (i.e. luminosity of the star in units of the solar luminosity) and its effective temperature $T_{eff}$ (in Kelvins) according to the equation\n",
    "\n",
    "\\begin{equation}\n",
    "L_* = 4\\pi \\sigma R_*^2 T_{eff}^4 ,\n",
    "\\end{equation}\n",
    "\n",
    "where $\\sigma$ is the Steffan-Boltzman constant. The radius of the star, $R_∗$ must be returned in units of solar radius, $R_{\\odot}$.\n",
    "\n",
    "**Extra Work:** Implement some routine to catch any invalid input such as, for example, a negative temperature or luminosity."
   ]
  },
  {
   "cell_type": "markdown",
   "metadata": {},
   "source": [
    "---\n",
    "\n",
    "## 2. Star Information\n",
    "**`Carroll and Ostlie (2017). Sections 3.1 - 3.2`**\n",
    "\n",
    "The file `stars_data.txt` contains a list with the name of some of the nearest stars and some of their properties such as distance from the Sun in light-years, the apparent brightness and the luminosity (in units of the solar luminosity). Read the data from this file and store the information in a numpy array. \n",
    "\n",
    "1. Define a function that returns a list of the stars in order of distance from the Sun and writes the ordered information into a file named 'ordered_by_distance.txt'.\n",
    "\n",
    "2. Define a function that returns a list of the stars in order of luminosity and writes the ordered information into a file named 'ordered_by_luminosity.txt'.\n",
    "\n",
    "3. Define a function that calculates the **distance modulus** for each star, returns a list of the stars in order of this distance modulus and writes the ordered information into a file named 'ordered_by_distance_modulus.txt' (See Eq. 3.6 of Carroll and Ostlie).\n",
    "\n",
    "**Note:** The apparent brightness is how bright the stars look in our sky compared to the brightness of Sirius A. The Luminosity, or True brightness, is how bright the stars would look if all were at the same distance compared to the Sun."
   ]
  },
  {
   "cell_type": "markdown",
   "metadata": {},
   "source": [
    "---\n",
    "\n",
    "## 3. Lorentz Gamma Function\n",
    "**`Carroll and Ostlie (2017). Section 4.2`**\n",
    "\n",
    "1. Define a function that calculates the Lorentz gamma function,\n",
    "\n",
    "\\begin{equation}\n",
    "\\gamma (v) = \\frac{1}{\\sqrt{1-\\frac{v^2}{c^2}}}\n",
    "\\end{equation}\n",
    "\n",
    "for velocities in the range $0\\leq v < c$. \n",
    "\n",
    "2. Define a function that writes a file anmed 'Lorentz_gamma.txt' with two columns: the first column must have the values of the velocity β between 0 and 1 in increments of 0.01. The second column must have the values of the corresponding values of the Lorentz gamma function. Include an adequate header for the file."
   ]
  },
  {
   "cell_type": "markdown",
   "metadata": {},
   "source": [
    "---\n",
    "\n",
    "## 4. Planck Function\n",
    "**`Carroll and Ostlie (2017). Section 3.5`**\n",
    "\n",
    "1. Define a function that calculates the Planck function,\n",
    "\n",
    "\\begin{equation}\n",
    "B_\\lambda (T) = \\frac{\\frac{2hc^2}{\\lambda^5}}{e^{\\frac{hc}{\\lambda kT}}-1}.\n",
    "\\end{equation}\n",
    "\n",
    "See Eq. 3.22 of Carroll and Ostlie for details.\n",
    "\n",
    "2. Save a file named 'Planck_function.txt' the values of $B_\\lambda (T)$ for a star with a temperature of $T = 7000 \\text{ K}$  and for wavelengths in the range $0 \\text{ nm} \\leq \\lambda \\leq 1400 \\text{ nm}$. "
   ]
  },
  {
   "cell_type": "markdown",
   "metadata": {},
   "source": [
    "5. Consider a set of points in spacetime. Their coordinates will be given by the array"
   ]
  },
  {
   "cell_type": "code",
   "execution_count": 11,
   "metadata": {},
   "outputs": [],
   "source": [
    "import numpy as np\n",
    "rng = np.random.default_rng(413)\n",
    "coordinates = 10.*rng.random((100000, 4))\n"
   ]
  },
  {
   "cell_type": "markdown",
   "metadata": {},
   "source": [
    "where, for each particle we identify the coordinates as\n",
    "```\n",
    "ct = coordinates[:,0]\n",
    "\n",
    "x = coordinates[:,1]\n",
    "\n",
    "y = coordinates[:,2]\n",
    "\n",
    "z = coordinates[:,3]\n",
    "```\n",
    "The squared distance between two points in Minkowskian spacetime is given by\n",
    "\n",
    "\\begin{equation}\n",
    "d_{12}^2 = -(ct_2 - ct_1)^2 +(x_2 - x_1)^2 +(y_2 - y_1)^2 +(z_2 - z_1)^2. \n",
    "\\end{equation}\n",
    "\n",
    "Create a function that finds the nearest neighbor of each point in the set (using the Minkowskian metric) and returns an array with the indices of the nearest neghbor pairs and the distance between them. \n",
    "\n",
    "Optimize your function to obtain the result as fast as possible (use the magic `timeit` to show the efficiency of your function)."
   ]
  },
  {
   "cell_type": "markdown",
   "metadata": {},
   "source": [
    "¡¡ Happy Coding !!"
   ]
  }
 ],
 "metadata": {
  "kernelspec": {
   "display_name": "Python 3 (ipykernel)",
   "language": "python",
   "name": "python3"
  },
  "language_info": {
   "codemirror_mode": {
    "name": "ipython",
    "version": 3
   },
   "file_extension": ".py",
   "mimetype": "text/x-python",
   "name": "python",
   "nbconvert_exporter": "python",
   "pygments_lexer": "ipython3",
   "version": "3.9.5"
  }
 },
 "nbformat": 4,
 "nbformat_minor": 2
}
